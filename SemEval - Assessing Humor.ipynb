{
 "cells": [
  {
   "cell_type": "markdown",
   "metadata": {},
   "source": [
    "### General Information\n",
    "\n",
    "Our options:  Neural Network, LTSM, Logistic Regression, SVM, etc.\n",
    "\n"
   ]
  },
  {
   "cell_type": "code",
   "execution_count": 1,
   "metadata": {},
   "outputs": [
    {
     "data": {
      "text/html": [
       "<div>\n",
       "<style scoped>\n",
       "    .dataframe tbody tr th:only-of-type {\n",
       "        vertical-align: middle;\n",
       "    }\n",
       "\n",
       "    .dataframe tbody tr th {\n",
       "        vertical-align: top;\n",
       "    }\n",
       "\n",
       "    .dataframe thead th {\n",
       "        text-align: right;\n",
       "    }\n",
       "</style>\n",
       "<table border=\"1\" class=\"dataframe\">\n",
       "  <thead>\n",
       "    <tr style=\"text-align: right;\">\n",
       "      <th></th>\n",
       "      <th>id</th>\n",
       "      <th>original</th>\n",
       "      <th>edit</th>\n",
       "      <th>grades</th>\n",
       "      <th>meanGrade</th>\n",
       "    </tr>\n",
       "  </thead>\n",
       "  <tbody>\n",
       "    <tr>\n",
       "      <th>0</th>\n",
       "      <td>14530</td>\n",
       "      <td>France is ‘ hunting down its citizens who join...</td>\n",
       "      <td>twins</td>\n",
       "      <td>10000</td>\n",
       "      <td>0.2</td>\n",
       "    </tr>\n",
       "    <tr>\n",
       "      <th>1</th>\n",
       "      <td>13034</td>\n",
       "      <td>Pentagon claims 2,000 % increase in Russian tr...</td>\n",
       "      <td>bowling</td>\n",
       "      <td>33110</td>\n",
       "      <td>1.6</td>\n",
       "    </tr>\n",
       "    <tr>\n",
       "      <th>2</th>\n",
       "      <td>8731</td>\n",
       "      <td>Iceland PM Calls Snap Vote as Pedophile Furor ...</td>\n",
       "      <td>party</td>\n",
       "      <td>22100</td>\n",
       "      <td>1.0</td>\n",
       "    </tr>\n",
       "    <tr>\n",
       "      <th>3</th>\n",
       "      <td>76</td>\n",
       "      <td>In an apparent first , Iran and Israel &lt;engage...</td>\n",
       "      <td>slap</td>\n",
       "      <td>20000</td>\n",
       "      <td>0.4</td>\n",
       "    </tr>\n",
       "    <tr>\n",
       "      <th>4</th>\n",
       "      <td>6164</td>\n",
       "      <td>Trump was told weeks ago that Flynn misled &lt;Vi...</td>\n",
       "      <td>school</td>\n",
       "      <td>0</td>\n",
       "      <td>0.0</td>\n",
       "    </tr>\n",
       "  </tbody>\n",
       "</table>\n",
       "</div>"
      ],
      "text/plain": [
       "      id                                           original     edit  grades  \\\n",
       "0  14530  France is ‘ hunting down its citizens who join...    twins   10000   \n",
       "1  13034  Pentagon claims 2,000 % increase in Russian tr...  bowling   33110   \n",
       "2   8731  Iceland PM Calls Snap Vote as Pedophile Furor ...    party   22100   \n",
       "3     76  In an apparent first , Iran and Israel <engage...     slap   20000   \n",
       "4   6164  Trump was told weeks ago that Flynn misled <Vi...   school       0   \n",
       "\n",
       "   meanGrade  \n",
       "0        0.2  \n",
       "1        1.6  \n",
       "2        1.0  \n",
       "3        0.4  \n",
       "4        0.0  "
      ]
     },
     "execution_count": 1,
     "metadata": {},
     "output_type": "execute_result"
    }
   ],
   "source": [
    "import pandas as pd\n",
    "import numpy as np\n",
    "\n",
    "dataset = pd.read_csv(\"train.csv\")\n",
    "dataset.head()"
   ]
  },
  {
   "cell_type": "code",
   "execution_count": 2,
   "metadata": {},
   "outputs": [
    {
     "data": {
      "text/html": [
       "<div>\n",
       "<style scoped>\n",
       "    .dataframe tbody tr th:only-of-type {\n",
       "        vertical-align: middle;\n",
       "    }\n",
       "\n",
       "    .dataframe tbody tr th {\n",
       "        vertical-align: top;\n",
       "    }\n",
       "\n",
       "    .dataframe thead th {\n",
       "        text-align: right;\n",
       "    }\n",
       "</style>\n",
       "<table border=\"1\" class=\"dataframe\">\n",
       "  <thead>\n",
       "    <tr style=\"text-align: right;\">\n",
       "      <th></th>\n",
       "      <th>id</th>\n",
       "      <th>original</th>\n",
       "      <th>edit</th>\n",
       "      <th>grades</th>\n",
       "      <th>meanGrade</th>\n",
       "    </tr>\n",
       "  </thead>\n",
       "  <tbody>\n",
       "    <tr>\n",
       "      <th>0</th>\n",
       "      <td>14530</td>\n",
       "      <td>France is ‘ hunting down its citizens who join...</td>\n",
       "      <td>twins</td>\n",
       "      <td>10000</td>\n",
       "      <td>0.2</td>\n",
       "    </tr>\n",
       "    <tr>\n",
       "      <th>1</th>\n",
       "      <td>13034</td>\n",
       "      <td>Pentagon claims 2,000 % increase in Russian tr...</td>\n",
       "      <td>bowling</td>\n",
       "      <td>33110</td>\n",
       "      <td>1.6</td>\n",
       "    </tr>\n",
       "    <tr>\n",
       "      <th>2</th>\n",
       "      <td>8731</td>\n",
       "      <td>Iceland PM Calls Snap Vote as Pedophile Furor ...</td>\n",
       "      <td>party</td>\n",
       "      <td>22100</td>\n",
       "      <td>1.0</td>\n",
       "    </tr>\n",
       "    <tr>\n",
       "      <th>3</th>\n",
       "      <td>76</td>\n",
       "      <td>In an apparent first , Iran and Israel &lt;engage...</td>\n",
       "      <td>slap</td>\n",
       "      <td>20000</td>\n",
       "      <td>0.4</td>\n",
       "    </tr>\n",
       "    <tr>\n",
       "      <th>5</th>\n",
       "      <td>8832</td>\n",
       "      <td>All 22 &lt;promises/&gt; Trump made in his speech to...</td>\n",
       "      <td>sounds</td>\n",
       "      <td>22200</td>\n",
       "      <td>1.2</td>\n",
       "    </tr>\n",
       "  </tbody>\n",
       "</table>\n",
       "</div>"
      ],
      "text/plain": [
       "      id                                           original     edit  grades  \\\n",
       "0  14530  France is ‘ hunting down its citizens who join...    twins   10000   \n",
       "1  13034  Pentagon claims 2,000 % increase in Russian tr...  bowling   33110   \n",
       "2   8731  Iceland PM Calls Snap Vote as Pedophile Furor ...    party   22100   \n",
       "3     76  In an apparent first , Iran and Israel <engage...     slap   20000   \n",
       "5   8832  All 22 <promises/> Trump made in his speech to...   sounds   22200   \n",
       "\n",
       "   meanGrade  \n",
       "0        0.2  \n",
       "1        1.6  \n",
       "2        1.0  \n",
       "3        0.4  \n",
       "5        1.2  "
      ]
     },
     "execution_count": 2,
     "metadata": {},
     "output_type": "execute_result"
    }
   ],
   "source": [
    "dataset= dataset[dataset['grades'] != 0]\n",
    "dataset.head()"
   ]
  },
  {
   "cell_type": "code",
   "execution_count": 3,
   "metadata": {},
   "outputs": [
    {
     "data": {
      "text/html": [
       "<div>\n",
       "<style scoped>\n",
       "    .dataframe tbody tr th:only-of-type {\n",
       "        vertical-align: middle;\n",
       "    }\n",
       "\n",
       "    .dataframe tbody tr th {\n",
       "        vertical-align: top;\n",
       "    }\n",
       "\n",
       "    .dataframe thead th {\n",
       "        text-align: right;\n",
       "    }\n",
       "</style>\n",
       "<table border=\"1\" class=\"dataframe\">\n",
       "  <thead>\n",
       "    <tr style=\"text-align: right;\">\n",
       "      <th></th>\n",
       "      <th>original</th>\n",
       "      <th>edit</th>\n",
       "      <th>meanGrade</th>\n",
       "    </tr>\n",
       "  </thead>\n",
       "  <tbody>\n",
       "    <tr>\n",
       "      <th>0</th>\n",
       "      <td>France is ‘ hunting down its citizens who join...</td>\n",
       "      <td>twins</td>\n",
       "      <td>0.2</td>\n",
       "    </tr>\n",
       "    <tr>\n",
       "      <th>1</th>\n",
       "      <td>Pentagon claims 2,000 % increase in Russian tr...</td>\n",
       "      <td>bowling</td>\n",
       "      <td>1.6</td>\n",
       "    </tr>\n",
       "    <tr>\n",
       "      <th>2</th>\n",
       "      <td>Iceland PM Calls Snap Vote as Pedophile Furor ...</td>\n",
       "      <td>party</td>\n",
       "      <td>1.0</td>\n",
       "    </tr>\n",
       "    <tr>\n",
       "      <th>3</th>\n",
       "      <td>In an apparent first , Iran and Israel &lt;engage...</td>\n",
       "      <td>slap</td>\n",
       "      <td>0.4</td>\n",
       "    </tr>\n",
       "    <tr>\n",
       "      <th>5</th>\n",
       "      <td>All 22 &lt;promises/&gt; Trump made in his speech to...</td>\n",
       "      <td>sounds</td>\n",
       "      <td>1.2</td>\n",
       "    </tr>\n",
       "  </tbody>\n",
       "</table>\n",
       "</div>"
      ],
      "text/plain": [
       "                                            original     edit  meanGrade\n",
       "0  France is ‘ hunting down its citizens who join...    twins        0.2\n",
       "1  Pentagon claims 2,000 % increase in Russian tr...  bowling        1.6\n",
       "2  Iceland PM Calls Snap Vote as Pedophile Furor ...    party        1.0\n",
       "3  In an apparent first , Iran and Israel <engage...     slap        0.4\n",
       "5  All 22 <promises/> Trump made in his speech to...   sounds        1.2"
      ]
     },
     "execution_count": 3,
     "metadata": {},
     "output_type": "execute_result"
    }
   ],
   "source": [
    "dataset = dataset.drop(['id', 'grades'], axis=1)\n",
    "dataset.head()"
   ]
  },
  {
   "cell_type": "code",
   "execution_count": 4,
   "metadata": {},
   "outputs": [
    {
     "data": {
      "text/html": [
       "<div>\n",
       "<style scoped>\n",
       "    .dataframe tbody tr th:only-of-type {\n",
       "        vertical-align: middle;\n",
       "    }\n",
       "\n",
       "    .dataframe tbody tr th {\n",
       "        vertical-align: top;\n",
       "    }\n",
       "\n",
       "    .dataframe thead th {\n",
       "        text-align: right;\n",
       "    }\n",
       "</style>\n",
       "<table border=\"1\" class=\"dataframe\">\n",
       "  <thead>\n",
       "    <tr style=\"text-align: right;\">\n",
       "      <th></th>\n",
       "      <th>original</th>\n",
       "      <th>edit</th>\n",
       "      <th>meanGrade</th>\n",
       "      <th>replaced_sentence</th>\n",
       "    </tr>\n",
       "  </thead>\n",
       "  <tbody>\n",
       "    <tr>\n",
       "      <th>0</th>\n",
       "      <td>France is ‘ hunting down its citizens who join...</td>\n",
       "      <td>twins</td>\n",
       "      <td>0.2</td>\n",
       "      <td>France is ‘ hunting down its citizens who join...</td>\n",
       "    </tr>\n",
       "    <tr>\n",
       "      <th>1</th>\n",
       "      <td>Pentagon claims 2,000 % increase in Russian tr...</td>\n",
       "      <td>bowling</td>\n",
       "      <td>1.6</td>\n",
       "      <td>Pentagon claims 2,000 % increase in Russian tr...</td>\n",
       "    </tr>\n",
       "    <tr>\n",
       "      <th>2</th>\n",
       "      <td>Iceland PM Calls Snap Vote as Pedophile Furor ...</td>\n",
       "      <td>party</td>\n",
       "      <td>1.0</td>\n",
       "      <td>Iceland PM Calls Snap Vote as Pedophile Furor ...</td>\n",
       "    </tr>\n",
       "    <tr>\n",
       "      <th>3</th>\n",
       "      <td>In an apparent first , Iran and Israel &lt;engage...</td>\n",
       "      <td>slap</td>\n",
       "      <td>0.4</td>\n",
       "      <td>In an apparent first , Iran and Israel slap ea...</td>\n",
       "    </tr>\n",
       "    <tr>\n",
       "      <th>5</th>\n",
       "      <td>All 22 &lt;promises/&gt; Trump made in his speech to...</td>\n",
       "      <td>sounds</td>\n",
       "      <td>1.2</td>\n",
       "      <td>All 22 sounds Trump made in his speech to Cong...</td>\n",
       "    </tr>\n",
       "  </tbody>\n",
       "</table>\n",
       "</div>"
      ],
      "text/plain": [
       "                                            original     edit  meanGrade  \\\n",
       "0  France is ‘ hunting down its citizens who join...    twins        0.2   \n",
       "1  Pentagon claims 2,000 % increase in Russian tr...  bowling        1.6   \n",
       "2  Iceland PM Calls Snap Vote as Pedophile Furor ...    party        1.0   \n",
       "3  In an apparent first , Iran and Israel <engage...     slap        0.4   \n",
       "5  All 22 <promises/> Trump made in his speech to...   sounds        1.2   \n",
       "\n",
       "                                   replaced_sentence  \n",
       "0  France is ‘ hunting down its citizens who join...  \n",
       "1  Pentagon claims 2,000 % increase in Russian tr...  \n",
       "2  Iceland PM Calls Snap Vote as Pedophile Furor ...  \n",
       "3  In an apparent first , Iran and Israel slap ea...  \n",
       "5  All 22 sounds Trump made in his speech to Cong...  "
      ]
     },
     "execution_count": 4,
     "metadata": {},
     "output_type": "execute_result"
    }
   ],
   "source": [
    "import re\n",
    "\n",
    "dataset['replaced_sentence'] = \"\"\n",
    "storage_array = []\n",
    "\n",
    "for index, row in dataset.iterrows():\n",
    "    #print(row['edit'])\n",
    "    new = re.sub('<.*/>', row['edit'], row['original'], flags=re.DOTALL)\n",
    "    storage_array.append(new)\n",
    "\n",
    "dataset['replaced_sentence'] = storage_array\n",
    "dataset.head()"
   ]
  },
  {
   "cell_type": "code",
   "execution_count": 5,
   "metadata": {},
   "outputs": [
    {
     "data": {
      "text/plain": [
       "0    france is ‘ hunting down its citizens who join...\n",
       "1    pentagon claims 2,000 % increase in russian tr...\n",
       "2    iceland pm calls snap vote as pedophile furor ...\n",
       "3    in an apparent first , iran and israel slap ea...\n",
       "5    all 22 sounds trump made in his speech to cong...\n",
       "Name: replaced_sentence, dtype: object"
      ]
     },
     "execution_count": 5,
     "metadata": {},
     "output_type": "execute_result"
    }
   ],
   "source": [
    "## Convert to lowercase\n",
    "dataset['replaced_sentence'] = dataset['replaced_sentence'].apply(lambda x: \" \".join(x.lower() for x in x.split()))\n",
    "dataset['replaced_sentence'].head()"
   ]
  },
  {
   "cell_type": "code",
   "execution_count": 6,
   "metadata": {},
   "outputs": [
    {
     "data": {
      "text/plain": [
       "0    france ‘ hunting citizens joined twins ’ witho...\n",
       "1    pentagon claims 2,000 % increase russian troll...\n",
       "2    iceland pm calls snap vote pedophile furor cra...\n",
       "3         apparent first , iran israel slap militarily\n",
       "5     22 sounds trump made speech congress , one chart\n",
       "Name: replaced_sentence, dtype: object"
      ]
     },
     "execution_count": 6,
     "metadata": {},
     "output_type": "execute_result"
    }
   ],
   "source": [
    "# Remove Stop Words\n",
    "\n",
    "from nltk.corpus import stopwords\n",
    "stop = stopwords.words('english')\n",
    "dataset['replaced_sentence'] = dataset['replaced_sentence'].apply(lambda x: \" \".join(x for x in x.split() if x not in stop))\n",
    "dataset['replaced_sentence'].head()"
   ]
  },
  {
   "cell_type": "code",
   "execution_count": 7,
   "metadata": {},
   "outputs": [
    {
     "data": {
      "text/plain": [
       "0    france  hunting citizens joined twins  without...\n",
       "1    pentagon claims 2000  increase russian trolls ...\n",
       "2    iceland pm calls snap vote pedophile furor cra...\n",
       "3          apparent first  iran israel slap militarily\n",
       "5      22 sounds trump made speech congress  one chart\n",
       "Name: replaced_sentence, dtype: object"
      ]
     },
     "execution_count": 7,
     "metadata": {},
     "output_type": "execute_result"
    }
   ],
   "source": [
    "# Remove punctuation\n",
    "dataset['replaced_sentence'] = dataset['replaced_sentence'].str.replace('[^\\w\\s]','')\n",
    "dataset['replaced_sentence'].head()"
   ]
  },
  {
   "cell_type": "code",
   "execution_count": 8,
   "metadata": {},
   "outputs": [
    {
     "data": {
      "text/plain": [
       "trump     3238\n",
       "s         2218\n",
       "us         709\n",
       "says       597\n",
       "house      479\n",
       "donald     348\n",
       "new        345\n",
       "nt         344\n",
       "white      330\n",
       "gop        286\n",
       "dtype: int64"
      ]
     },
     "execution_count": 8,
     "metadata": {},
     "output_type": "execute_result"
    }
   ],
   "source": [
    "# Check for common words\n",
    "frequent_words = pd.Series(' '.join(dataset['replaced_sentence']).split()).value_counts()[:10]\n",
    "frequent_words"
   ]
  },
  {
   "cell_type": "code",
   "execution_count": 9,
   "metadata": {},
   "outputs": [],
   "source": [
    "# Remove 's' and'nt' (consider replacing )\n",
    "words_to_remove = ['s', 'nt']\n",
    "dataset['replaced_sentence'] = dataset['replaced_sentence'].apply(lambda x: \" \".join(x for x in x.split() if x not in words_to_remove))"
   ]
  },
  {
   "cell_type": "code",
   "execution_count": 10,
   "metadata": {},
   "outputs": [
    {
     "data": {
      "text/plain": [
       "ham            1\n",
       "geckos         1\n",
       "sailboat       1\n",
       "rebuttal       1\n",
       "rectal         1\n",
       "closets        1\n",
       "caterpillar    1\n",
       "brick          1\n",
       "fabrics        1\n",
       "disposed       1\n",
       "dtype: int64"
      ]
     },
     "execution_count": 10,
     "metadata": {},
     "output_type": "execute_result"
    }
   ],
   "source": [
    "#check for rare words\n",
    "rare = pd.Series(' '.join(dataset['replaced_sentence']).split()).value_counts()[-10:]\n",
    "rare"
   ]
  },
  {
   "cell_type": "code",
   "execution_count": 11,
   "metadata": {},
   "outputs": [],
   "source": [
    "# remove rare words\n",
    "rare = list(rare.index)\n",
    "dataset['replaced_sentence'] = dataset['replaced_sentence'].apply(lambda x: \" \".join(x for x in x.split() if x not in rare))"
   ]
  },
  {
   "cell_type": "code",
   "execution_count": 12,
   "metadata": {},
   "outputs": [
    {
     "data": {
      "text/plain": [
       "0    france hunting citizens joined twins without t...\n",
       "1    pentagon claims 2000 increase russian trills b...\n",
       "2    iceland pm calls snap vote pedophile for clash...\n",
       "3              apparent first ran israel slap military\n",
       "5       22 sounds tramp made speech congress one chart\n",
       "Name: replaced_sentence, dtype: object"
      ]
     },
     "execution_count": 12,
     "metadata": {},
     "output_type": "execute_result"
    }
   ],
   "source": [
    "# spell correction\n",
    "import textblob\n",
    "from textblob import TextBlob\n",
    "dataset['replaced_sentence'][:5].apply(lambda x: str(TextBlob(x).correct()))"
   ]
  },
  {
   "cell_type": "code",
   "execution_count": 13,
   "metadata": {},
   "outputs": [
    {
     "data": {
      "text/html": [
       "<div>\n",
       "<style scoped>\n",
       "    .dataframe tbody tr th:only-of-type {\n",
       "        vertical-align: middle;\n",
       "    }\n",
       "\n",
       "    .dataframe tbody tr th {\n",
       "        vertical-align: top;\n",
       "    }\n",
       "\n",
       "    .dataframe thead th {\n",
       "        text-align: right;\n",
       "    }\n",
       "</style>\n",
       "<table border=\"1\" class=\"dataframe\">\n",
       "  <thead>\n",
       "    <tr style=\"text-align: right;\">\n",
       "      <th></th>\n",
       "      <th>original</th>\n",
       "      <th>edit</th>\n",
       "      <th>meanGrade</th>\n",
       "      <th>replaced_sentence</th>\n",
       "    </tr>\n",
       "  </thead>\n",
       "  <tbody>\n",
       "    <tr>\n",
       "      <th>0</th>\n",
       "      <td>France is ‘ hunting down its citizens who join...</td>\n",
       "      <td>twins</td>\n",
       "      <td>0.2</td>\n",
       "      <td>france hunting citizens joined twins without t...</td>\n",
       "    </tr>\n",
       "    <tr>\n",
       "      <th>1</th>\n",
       "      <td>Pentagon claims 2,000 % increase in Russian tr...</td>\n",
       "      <td>bowling</td>\n",
       "      <td>1.6</td>\n",
       "      <td>pentagon claims  increase russian trolls bowli...</td>\n",
       "    </tr>\n",
       "    <tr>\n",
       "      <th>2</th>\n",
       "      <td>Iceland PM Calls Snap Vote as Pedophile Furor ...</td>\n",
       "      <td>party</td>\n",
       "      <td>1.0</td>\n",
       "      <td>iceland pm calls snap vote pedophile furor cra...</td>\n",
       "    </tr>\n",
       "    <tr>\n",
       "      <th>3</th>\n",
       "      <td>In an apparent first , Iran and Israel &lt;engage...</td>\n",
       "      <td>slap</td>\n",
       "      <td>0.4</td>\n",
       "      <td>apparent first iran israel slap militarily</td>\n",
       "    </tr>\n",
       "    <tr>\n",
       "      <th>5</th>\n",
       "      <td>All 22 &lt;promises/&gt; Trump made in his speech to...</td>\n",
       "      <td>sounds</td>\n",
       "      <td>1.2</td>\n",
       "      <td>sounds trump made speech congress one chart</td>\n",
       "    </tr>\n",
       "  </tbody>\n",
       "</table>\n",
       "</div>"
      ],
      "text/plain": [
       "                                            original     edit  meanGrade  \\\n",
       "0  France is ‘ hunting down its citizens who join...    twins        0.2   \n",
       "1  Pentagon claims 2,000 % increase in Russian tr...  bowling        1.6   \n",
       "2  Iceland PM Calls Snap Vote as Pedophile Furor ...    party        1.0   \n",
       "3  In an apparent first , Iran and Israel <engage...     slap        0.4   \n",
       "5  All 22 <promises/> Trump made in his speech to...   sounds        1.2   \n",
       "\n",
       "                                   replaced_sentence  \n",
       "0  france hunting citizens joined twins without t...  \n",
       "1  pentagon claims  increase russian trolls bowli...  \n",
       "2  iceland pm calls snap vote pedophile furor cra...  \n",
       "3         apparent first iran israel slap militarily  \n",
       "5        sounds trump made speech congress one chart  "
      ]
     },
     "execution_count": 13,
     "metadata": {},
     "output_type": "execute_result"
    }
   ],
   "source": [
    "## remove digits\n",
    "from string import digits\n",
    "# \n",
    "\n",
    "dataset['replaced_sentence'] = dataset['replaced_sentence'].str.replace('\\d+', '')\n",
    "dataset.head()"
   ]
  },
  {
   "cell_type": "code",
   "execution_count": 14,
   "metadata": {},
   "outputs": [
    {
     "data": {
      "text/html": [
       "<div>\n",
       "<style scoped>\n",
       "    .dataframe tbody tr th:only-of-type {\n",
       "        vertical-align: middle;\n",
       "    }\n",
       "\n",
       "    .dataframe tbody tr th {\n",
       "        vertical-align: top;\n",
       "    }\n",
       "\n",
       "    .dataframe thead th {\n",
       "        text-align: right;\n",
       "    }\n",
       "</style>\n",
       "<table border=\"1\" class=\"dataframe\">\n",
       "  <thead>\n",
       "    <tr style=\"text-align: right;\">\n",
       "      <th></th>\n",
       "      <th>original</th>\n",
       "      <th>edit</th>\n",
       "      <th>meanGrade</th>\n",
       "      <th>replaced_sentence</th>\n",
       "      <th>tokenized</th>\n",
       "    </tr>\n",
       "  </thead>\n",
       "  <tbody>\n",
       "    <tr>\n",
       "      <th>0</th>\n",
       "      <td>France is ‘ hunting down its citizens who join...</td>\n",
       "      <td>twins</td>\n",
       "      <td>0.2</td>\n",
       "      <td>france hunting citizens joined twins without t...</td>\n",
       "      <td>[france, hunting, citizens, joined, twins, wit...</td>\n",
       "    </tr>\n",
       "    <tr>\n",
       "      <th>1</th>\n",
       "      <td>Pentagon claims 2,000 % increase in Russian tr...</td>\n",
       "      <td>bowling</td>\n",
       "      <td>1.6</td>\n",
       "      <td>pentagon claims  increase russian trolls bowli...</td>\n",
       "      <td>[pentagon, claims, increase, russian, trolls, ...</td>\n",
       "    </tr>\n",
       "    <tr>\n",
       "      <th>2</th>\n",
       "      <td>Iceland PM Calls Snap Vote as Pedophile Furor ...</td>\n",
       "      <td>party</td>\n",
       "      <td>1.0</td>\n",
       "      <td>iceland pm calls snap vote pedophile furor cra...</td>\n",
       "      <td>[iceland, pm, calls, snap, vote, pedophile, fu...</td>\n",
       "    </tr>\n",
       "    <tr>\n",
       "      <th>3</th>\n",
       "      <td>In an apparent first , Iran and Israel &lt;engage...</td>\n",
       "      <td>slap</td>\n",
       "      <td>0.4</td>\n",
       "      <td>apparent first iran israel slap militarily</td>\n",
       "      <td>[apparent, first, iran, israel, slap, militarily]</td>\n",
       "    </tr>\n",
       "    <tr>\n",
       "      <th>5</th>\n",
       "      <td>All 22 &lt;promises/&gt; Trump made in his speech to...</td>\n",
       "      <td>sounds</td>\n",
       "      <td>1.2</td>\n",
       "      <td>sounds trump made speech congress one chart</td>\n",
       "      <td>[sounds, trump, made, speech, congress, one, c...</td>\n",
       "    </tr>\n",
       "  </tbody>\n",
       "</table>\n",
       "</div>"
      ],
      "text/plain": [
       "                                            original     edit  meanGrade  \\\n",
       "0  France is ‘ hunting down its citizens who join...    twins        0.2   \n",
       "1  Pentagon claims 2,000 % increase in Russian tr...  bowling        1.6   \n",
       "2  Iceland PM Calls Snap Vote as Pedophile Furor ...    party        1.0   \n",
       "3  In an apparent first , Iran and Israel <engage...     slap        0.4   \n",
       "5  All 22 <promises/> Trump made in his speech to...   sounds        1.2   \n",
       "\n",
       "                                   replaced_sentence  \\\n",
       "0  france hunting citizens joined twins without t...   \n",
       "1  pentagon claims  increase russian trolls bowli...   \n",
       "2  iceland pm calls snap vote pedophile furor cra...   \n",
       "3         apparent first iran israel slap militarily   \n",
       "5        sounds trump made speech congress one chart   \n",
       "\n",
       "                                           tokenized  \n",
       "0  [france, hunting, citizens, joined, twins, wit...  \n",
       "1  [pentagon, claims, increase, russian, trolls, ...  \n",
       "2  [iceland, pm, calls, snap, vote, pedophile, fu...  \n",
       "3  [apparent, first, iran, israel, slap, militarily]  \n",
       "5  [sounds, trump, made, speech, congress, one, c...  "
      ]
     },
     "execution_count": 14,
     "metadata": {},
     "output_type": "execute_result"
    }
   ],
   "source": [
    "## Tokenization of sentences. making each sentence into a list.\n",
    "# wikipedia embeddings trained over all of wikipedia. \n",
    "# convolution over the word embeddings (i.e. average it)\n",
    "\n",
    "import nltk\n",
    "\n",
    "tokenized = [nltk.word_tokenize(sent) for sent in dataset['replaced_sentence']]\n",
    "dataset['tokenized'] = tokenized\n",
    "\n",
    "dataset.head()"
   ]
  },
  {
   "cell_type": "code",
   "execution_count": 15,
   "metadata": {},
   "outputs": [],
   "source": [
    "from gensim.models import KeyedVectors\n",
    "# Load vectors directly from the file\n",
    "model = KeyedVectors.load_word2vec_format('GoogleNews-vectors-negative300.bin', binary=True)\n",
    "# Access vectors for specific words with a keyed lookup:\n",
    "vector = model['easy']\n",
    "# see the shape of the vector (300,)\n",
    "vector.shape\n",
    "# Processing sentences is not as simple as with Spacy:\n",
    "vectors = [model[x] for x in \"This is some text I am processing with Spacy\".split(' ')]"
   ]
  },
  {
   "cell_type": "code",
   "execution_count": null,
   "metadata": {},
   "outputs": [],
   "source": [
    "#model.similarity(\"sparkle\", \"glitter\")\n",
    "vectors_array = []\n",
    "print(type(model))\n",
    "\n",
    "if \"doj\" in model:\n",
    "    print(\"it is!\")\n",
    "\n",
    "#if a word from the sentence exists in the model\n",
    "\n",
    "for index, row in dataset.iterrows(): \n",
    "    each_sentence = []\n",
    "    for x in row['tokenized']:\n",
    "        if x in model:\n",
    "            vectors = model[x]\n",
    "            each_sentence.append(vectors)\n",
    "    print(each_sentence)\n",
    "    vectors_array.append(each_sentence)\n",
    "    \n",
    "print(len(vectors_array))\n",
    "            \n",
    "\n",
    "dataset['word embeddings'] = vectors_array\n",
    "\n",
    "\n"
   ]
  },
  {
   "cell_type": "markdown",
   "metadata": {},
   "source": [
    "### Building a Model"
   ]
  },
  {
   "cell_type": "code",
   "execution_count": null,
   "metadata": {},
   "outputs": [],
   "source": []
  },
  {
   "cell_type": "markdown",
   "metadata": {},
   "source": [
    "### Testing the Model"
   ]
  },
  {
   "cell_type": "code",
   "execution_count": null,
   "metadata": {},
   "outputs": [],
   "source": []
  }
 ],
 "metadata": {
  "kernelspec": {
   "display_name": "Python 3",
   "language": "python",
   "name": "python3"
  },
  "language_info": {
   "codemirror_mode": {
    "name": "ipython",
    "version": 3
   },
   "file_extension": ".py",
   "mimetype": "text/x-python",
   "name": "python",
   "nbconvert_exporter": "python",
   "pygments_lexer": "ipython3",
   "version": "3.7.0"
  }
 },
 "nbformat": 4,
 "nbformat_minor": 2
}
